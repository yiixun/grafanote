{
 "cells": [
  {
   "cell_type": "markdown",
   "id": "601cd486-fb68-4427-8baf-4071c3adbf32",
   "metadata": {},
   "source": [
    "This example provides a vote server."
   ]
  },
  {
   "cell_type": "code",
   "execution_count": null,
   "id": "b5e42ff1-0683-45f4-bb0d-fc8c5fe74a38",
   "metadata": {},
   "outputs": [],
   "source": [
    "from flask import Flask, request\n",
    "#from flask_cors import CORS\n",
    "import json\n",
    " \n",
    "app = Flask(__name__)\n",
    "#CORS(app, supports_credentials=True)  # 允许cross domain\n",
    " \n",
    "class VoteServerCfg:\n",
    "    votes_data = df  # pandas dataframe. #vote_name, user, choice\n",
    " \n",
    " \n",
    "@app.route('/apis/vote_example/vote/', methods=['POST', 'GET'])\n",
    "def vote():\n",
    "    data = request.json\n",
    "    print(\"%s\" % data)  # check the posted data\n",
    "    \n",
    "    return json.dumps([v for v in TodoConf.todos.values()])\n",
    "\n",
    "\n",
    "@app.route('/apis/vote_example/result/', methods=['POST', 'GET'])\n",
    "def result():\n",
    "    result = {\n",
    "        \"choice1\": 50,\n",
    "        \"choice2\": 50\n",
    "    }\n",
    "    \n",
    "    return json.dumps([v for v in TodoConf.todos.values()])\n",
    "     \n",
    " \n",
    "app.run(host='0.0.0.0', port=9000)\n",
    "\n",
    "\n",
    "    \n",
    "\n",
    "\n",
    "\n"
   ]
  }
 ],
 "metadata": {
  "kernelspec": {
   "display_name": "Python 3 (ipykernel)",
   "language": "python",
   "name": "python3"
  },
  "language_info": {
   "codemirror_mode": {
    "name": "ipython",
    "version": 3
   },
   "file_extension": ".py",
   "mimetype": "text/x-python",
   "name": "python",
   "nbconvert_exporter": "python",
   "pygments_lexer": "ipython3",
   "version": "3.11.6"
  }
 },
 "nbformat": 4,
 "nbformat_minor": 5
}
