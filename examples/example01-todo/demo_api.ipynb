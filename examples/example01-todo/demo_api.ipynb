{
 "cells": [
  {
   "cell_type": "code",
   "execution_count": null,
   "id": "07448615-6e41-4ec6-9b8a-2b261973ec8f",
   "metadata": {},
   "outputs": [],
   "source": []
  },
  {
   "cell_type": "code",
   "execution_count": null,
   "id": "ceac35fd-f071-4aa6-b496-fb1b6bcab994",
   "metadata": {},
   "outputs": [
    {
     "name": "stdout",
     "output_type": "stream",
     "text": [
      " * Serving Flask app '__main__'\n",
      " * Debug mode: off\n"
     ]
    },
    {
     "name": "stderr",
     "output_type": "stream",
     "text": [
      "WARNING: This is a development server. Do not use it in a production deployment. Use a production WSGI server instead.\n",
      " * Running on all addresses (0.0.0.0)\n",
      " * Running on http://127.0.0.1:9000\n",
      " * Running on http://172.19.0.2:9000\n",
      "Press CTRL+C to quit\n",
      "172.19.0.4 - - [09/Oct/2024 06:16:27] \"OPTIONS /apis/todo/refresh HTTP/1.1\" 200 -\n",
      "172.19.0.4 - - [09/Oct/2024 06:17:26] \"POST /apis/todo/refresh HTTP/1.1\" 200 -\n",
      "172.19.0.4 - - [09/Oct/2024 06:17:59] \"POST /apis/todo/refresh HTTP/1.1\" 200 -\n",
      "172.19.0.4 - - [09/Oct/2024 06:18:31] \"POST /apis/todo/refresh HTTP/1.1\" 200 -\n",
      "172.19.0.4 - - [09/Oct/2024 06:19:03] \"POST /apis/todo/refresh HTTP/1.1\" 200 -\n",
      "172.19.0.4 - - [09/Oct/2024 06:20:38] \"POST /apis/todo/refresh HTTP/1.1\" 200 -\n",
      "172.19.0.4 - - [09/Oct/2024 06:22:30] \"POST /apis/todo/refresh HTTP/1.1\" 200 -\n",
      "172.19.0.4 - - [09/Oct/2024 06:24:31] \"POST /apis/todo/add HTTP/1.1\" 200 -\n",
      "172.19.0.4 - - [09/Oct/2024 06:24:31] \"POST /apis/todo/refresh HTTP/1.1\" 200 -\n"
     ]
    },
    {
     "name": "stdout",
     "output_type": "stream",
     "text": [
      "{'name': 'hello'}\n"
     ]
    },
    {
     "name": "stderr",
     "output_type": "stream",
     "text": [
      "172.19.0.4 - - [09/Oct/2024 06:24:35] \"POST /apis/todo/change_status HTTP/1.1\" 404 -\n",
      "172.19.0.4 - - [09/Oct/2024 06:24:36] \"POST /apis/todo/change_status HTTP/1.1\" 404 -\n",
      "172.19.0.4 - - [09/Oct/2024 06:25:39] \"POST /apis/todo/refresh HTTP/1.1\" 200 -\n",
      "172.19.0.4 - - [09/Oct/2024 06:27:35] \"POST /apis/todo/add HTTP/1.1\" 200 -\n",
      "172.19.0.4 - - [09/Oct/2024 06:27:35] \"POST /apis/todo/refresh HTTP/1.1\" 200 -\n"
     ]
    },
    {
     "name": "stdout",
     "output_type": "stream",
     "text": [
      "{'name': 'go for a walk! '}\n"
     ]
    }
   ],
   "source": [
    "from flask import Flask, request\n",
    "#from flask_cors import CORS\n",
    "import json\n",
    " \n",
    "app = Flask(__name__)\n",
    "#CORS(app, supports_credentials=True)  # Allow Cross Domain if needed.\n",
    " \n",
    "class TodoConf:\n",
    "    # name: state pair, status 0 means not complete, 1 means completed. Corresponed to the js in grafana widget.\n",
    "    todos = {\n",
    "        '0': {'id': '0', 'name': 'foo', 'status': 0},\n",
    "        '1': {'id': '1', 'name': 'bar', 'status': 1}\n",
    "    }\n",
    " \n",
    "# Return the latest todo list\n",
    "@app.route('/apis/todo/refresh', methods=['POST', 'GET'])\n",
    "def todo_refresh():\n",
    "    return json.dumps([v for v in TodoConf.todos.values()])\n",
    " \n",
    "# Add a todo item\n",
    "@app.route('/apis/todo/add', methods=['POST'])\n",
    "def todo_add():\n",
    "    data = request.json\n",
    "    print(\"%s\" % data)  # check the posted data\n",
    "    if 'name' not in data:\n",
    "        return {\"result\": 'fail'}\n",
    "    new_id = '%s' % len(TodoConf.todos)\n",
    "    TodoConf.todos[new_id] = {'id': new_id, 'name': data['name'], 'status': 0}\n",
    "    return json.dumps([v for v in TodoConf.todos.values()])\n",
    " \n",
    "# Modify todo status.\n",
    "@app.route('/todo/change_status', methods=['POST'])\n",
    "def todo_change_status():\n",
    "    data = request.json\n",
    "    print(\"%s\" % data)\n",
    "    if 'id' in data and 'status' in data and data['id'] in TodoConf.todos:\n",
    "        TodoConf.todos[data['id']]['status'] = data['status']\n",
    "        return {\"result\": 'success'}\n",
    "    return {\"result\": 'fail'}\n",
    " \n",
    "app.run(host='0.0.0.0', port=9000)"
   ]
  }
 ],
 "metadata": {
  "kernelspec": {
   "display_name": "Python 3 (ipykernel)",
   "language": "python",
   "name": "python3"
  },
  "language_info": {
   "codemirror_mode": {
    "name": "ipython",
    "version": 3
   },
   "file_extension": ".py",
   "mimetype": "text/x-python",
   "name": "python",
   "nbconvert_exporter": "python",
   "pygments_lexer": "ipython3",
   "version": "3.11.6"
  }
 },
 "nbformat": 4,
 "nbformat_minor": 5
}
